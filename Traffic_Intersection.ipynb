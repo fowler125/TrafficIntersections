{
  "nbformat": 4,
  "nbformat_minor": 0,
  "metadata": {
    "colab": {
      "provenance": [],
      "toc_visible": true,
      "authorship_tag": "ABX9TyMX1wF8FoVIedPYGFf5vS46",
      "include_colab_link": true
    },
    "kernelspec": {
      "name": "python3",
      "display_name": "Python 3"
    },
    "language_info": {
      "name": "python"
    }
  },
  "cells": [
    {
      "cell_type": "markdown",
      "metadata": {
        "id": "view-in-github",
        "colab_type": "text"
      },
      "source": [
        "<a href=\"https://colab.research.google.com/github/fowler125/TrafficIntersections/blob/master/Traffic_Intersection.ipynb\" target=\"_parent\"><img src=\"https://colab.research.google.com/assets/colab-badge.svg\" alt=\"Open In Colab\"/></a>"
      ]
    },
    {
      "cell_type": "code",
      "execution_count": 3,
      "metadata": {
        "id": "W6of12fuAbsz"
      },
      "outputs": [],
      "source": [
        "from collections import defaultdict\n",
        "#here we will use default dict as our default structure"
      ]
    },
    {
      "cell_type": "code",
      "source": [
        "#we will first define our DFS algorithm\n",
        "def DFS(node, visited, graph, output):\n",
        "  visited[node] = True\n",
        "  for v,direction in graph[node]:\n",
        "    if not visited[b]:\n",
        "      if direction == 0:\n",
        "        direction = 1\n",
        "      output.append((node,v,direction))\n",
        "      dfs(node,visited,graph,output)"
      ],
      "metadata": {
        "id": "v8O-L274Ijds"
      },
      "execution_count": 4,
      "outputs": []
    },
    {
      "cell_type": "markdown",
      "source": [
        "This is an implementation of a DFS algo, this website: https://favtutor.com/blogs/depth-first-search-python , does a good job in explaining it and for the most part the algo code is simple. HOWEVER, in our use case, the graph changes in addition too our 1 way or two way designation controlled with direction.\n"
      ],
      "metadata": {
        "id": "wACEbsXoJrmj"
      }
    },
    {
      "cell_type": "code",
      "source": [
        "def main():\n",
        "  n,m = map(int, input().split())\n",
        "  #this line alone handles our input for the intersections, and streets, we have\n",
        "  #defined that the input will be INTEGERS only, and we will split by ''\n",
        "  graph = defaultdict(list)\n",
        "  two_way_streets = []\n",
        "\n",
        "  for _ in range(m):\n",
        "        a, b, c = map(int, input().split())\n",
        "        if c == 1:\n",
        "            graph[a].append((b, 1))\n",
        "        else:\n",
        "            two_way_streets.append((a, b))\n",
        "            graph[a].append((b, 0))\n",
        "            graph[b].append((a, 0))\n",
        "\n",
        "\n",
        "  visited = [False] * (n + 1)\n",
        "\n",
        "    # Perform DFS to determine traffic directions\n",
        "  output = []\n",
        "  for node in range(1, n + 1):\n",
        "        if not visited[node]:\n",
        "            dfs(node, visited, graph, output)\n",
        "\n",
        "    # Output directions for two-way streets\n",
        "  for street in two_way_streets:\n",
        "        a, b = street\n",
        "        direction = 2\n",
        "        for u, v, d in output:\n",
        "            if (u == a and v == b) or (u == b and v == a):\n",
        "                direction = d\n",
        "                break\n",
        "        print(a, b, direction)\n",
        "\n"
      ],
      "metadata": {
        "id": "xdhwXKgeKI-8"
      },
      "execution_count": 5,
      "outputs": []
    },
    {
      "cell_type": "code",
      "source": [
        "main()"
      ],
      "metadata": {
        "id": "S1Ca9TKqNFdt"
      },
      "execution_count": null,
      "outputs": []
    }
  ]
}